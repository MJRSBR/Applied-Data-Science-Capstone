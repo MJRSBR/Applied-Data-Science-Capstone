{
  "cells": [
    {
      "cell_type": "markdown",
      "metadata": {
        "id": "view-in-github",
        "colab_type": "text"
      },
      "source": [
        "<a href=\"https://colab.research.google.com/github/MJRSBR/Applied-Data-Science-Capstone/blob/main/labs_jupyter_spacex_Data_wrangling.ipynb\" target=\"_parent\"><img src=\"https://colab.research.google.com/assets/colab-badge.svg\" alt=\"Open In Colab\"/></a>"
      ]
    },
    {
      "cell_type": "markdown",
      "metadata": {
        "id": "tVXItGI89fUN"
      },
      "source": [
        "<center>\n",
        "    <img src=\"https://gitlab.com/ibm/skills-network/courses/placeholder101/-/raw/master/labs/module%201/images/IDSNlogo.png\" width=\"300\" alt=\"cognitiveclass.ai logo\"  />\n",
        "</center>\n"
      ]
    },
    {
      "cell_type": "markdown",
      "metadata": {
        "id": "wH39r-qh9fUS"
      },
      "source": [
        "# **Space X  Falcon 9 First Stage Landing Prediction**\n"
      ]
    },
    {
      "cell_type": "markdown",
      "metadata": {
        "id": "aQGpiUv-9fUS"
      },
      "source": [
        "## Lab 2: Data wrangling\n"
      ]
    },
    {
      "cell_type": "markdown",
      "metadata": {
        "id": "nBRscNBh9fUT"
      },
      "source": [
        "Estimated time needed: **60** minutes\n"
      ]
    },
    {
      "cell_type": "markdown",
      "metadata": {
        "id": "HeVeFtcE9fUT"
      },
      "source": [
        "In this lab, we will perform some Exploratory Data Analysis (EDA) to find some patterns in the data and determine what would be the label for training supervised models.\n",
        "\n",
        "In the data set, there are several different cases where the booster did not land successfully. Sometimes a landing was attempted but failed due to an accident; for example, <code>True Ocean</code> means the mission outcome was successfully  landed to a specific region of the ocean while <code>False Ocean</code> means the mission outcome was unsuccessfully landed to a specific region of the ocean. <code>True RTLS</code> means the mission outcome was successfully  landed to a ground pad <code>False RTLS</code> means the mission outcome was unsuccessfully landed to a ground pad.<code>True ASDS</code> means the mission outcome was successfully landed on  a drone ship <code>False ASDS</code> means the mission outcome was unsuccessfully landed on a drone ship.\n",
        "\n",
        "In this lab we will mainly convert those outcomes into Training Labels with `1` means the booster successfully landed `0` means it was unsuccessful.\n"
      ]
    },
    {
      "cell_type": "markdown",
      "metadata": {
        "id": "Cy7PMt9W9fUU"
      },
      "source": [
        "Falcon 9 first stage will land successfully\n"
      ]
    },
    {
      "cell_type": "markdown",
      "metadata": {
        "id": "nKxFTSga9fUV"
      },
      "source": [
        "![](https://cf-courses-data.s3.us.cloud-object-storage.appdomain.cloud/IBMDeveloperSkillsNetwork-DS0701EN-SkillsNetwork/api/Images/landing\\_1.gif)\n"
      ]
    },
    {
      "cell_type": "markdown",
      "metadata": {
        "id": "12fSF4in9fUV"
      },
      "source": [
        "Several examples of an unsuccessful landing are shown here:\n"
      ]
    },
    {
      "cell_type": "markdown",
      "metadata": {
        "id": "difTIaZx9fUV"
      },
      "source": [
        "![](https://cf-courses-data.s3.us.cloud-object-storage.appdomain.cloud/IBMDeveloperSkillsNetwork-DS0701EN-SkillsNetwork/api/Images/crash.gif)\n"
      ]
    },
    {
      "cell_type": "markdown",
      "metadata": {
        "id": "klacR4cG9fUW"
      },
      "source": [
        ""
      ]
    },
    {
      "cell_type": "markdown",
      "metadata": {
        "id": "1BwY9SHz9fUW"
      },
      "source": [
        "## Objectives\n",
        "\n",
        "Perform exploratory  Data Analysis and determine Training Labels\n",
        "\n",
        "*   Exploratory Data Analysis\n",
        "*   Determine Training Labels\n"
      ]
    },
    {
      "cell_type": "markdown",
      "metadata": {
        "id": "xQJxNVac9fUW"
      },
      "source": [
        "***\n"
      ]
    },
    {
      "cell_type": "markdown",
      "metadata": {
        "id": "By3ggzgR9fUX"
      },
      "source": [
        "## Import Libraries and Define Auxiliary Functions\n"
      ]
    },
    {
      "cell_type": "markdown",
      "metadata": {
        "id": "-apZ2Zmv9fUX"
      },
      "source": [
        "We will import the following libraries.\n"
      ]
    },
    {
      "cell_type": "code",
      "execution_count": 1,
      "metadata": {
        "id": "hiDaNjoO9fUY"
      },
      "outputs": [],
      "source": [
        "# Pandas is a software library written for the Python programming language for data manipulation and analysis.\n",
        "import pandas as pd\n",
        "#NumPy is a library for the Python programming language, adding support for large, multi-dimensional arrays and matrices, along with a large collection of high-level mathematical functions to operate on these arrays\n",
        "import numpy as np"
      ]
    },
    {
      "cell_type": "markdown",
      "metadata": {
        "id": "9NLcYnDs9fUa"
      },
      "source": [
        "### Data Analysis\n"
      ]
    },
    {
      "cell_type": "markdown",
      "metadata": {
        "id": "v73hw1Hn9fUa"
      },
      "source": [
        "Load Space X dataset, from last section.\n"
      ]
    },
    {
      "cell_type": "code",
      "execution_count": 2,
      "metadata": {
        "colab": {
          "base_uri": "https://localhost:8080/",
          "height": 359
        },
        "id": "pH32eHZp9fUb",
        "outputId": "d39bf44c-056f-4032-c1da-3659ce6347b6"
      },
      "outputs": [
        {
          "output_type": "execute_result",
          "data": {
            "text/plain": [
              "   FlightNumber        Date BoosterVersion  PayloadMass Orbit    LaunchSite  \\\n",
              "0             1  2010-06-04       Falcon 9  6104.959412   LEO  CCAFS SLC 40   \n",
              "1             2  2012-05-22       Falcon 9   525.000000   LEO  CCAFS SLC 40   \n",
              "2             3  2013-03-01       Falcon 9   677.000000   ISS  CCAFS SLC 40   \n",
              "3             4  2013-09-29       Falcon 9   500.000000    PO   VAFB SLC 4E   \n",
              "4             5  2013-12-03       Falcon 9  3170.000000   GTO  CCAFS SLC 40   \n",
              "5             6  2014-01-06       Falcon 9  3325.000000   GTO  CCAFS SLC 40   \n",
              "6             7  2014-04-18       Falcon 9  2296.000000   ISS  CCAFS SLC 40   \n",
              "7             8  2014-07-14       Falcon 9  1316.000000   LEO  CCAFS SLC 40   \n",
              "8             9  2014-08-05       Falcon 9  4535.000000   GTO  CCAFS SLC 40   \n",
              "9            10  2014-09-07       Falcon 9  4428.000000   GTO  CCAFS SLC 40   \n",
              "\n",
              "       Outcome  Flights  GridFins  Reused   Legs LandingPad  Block  \\\n",
              "0    None None        1     False   False  False        NaN    1.0   \n",
              "1    None None        1     False   False  False        NaN    1.0   \n",
              "2    None None        1     False   False  False        NaN    1.0   \n",
              "3  False Ocean        1     False   False  False        NaN    1.0   \n",
              "4    None None        1     False   False  False        NaN    1.0   \n",
              "5    None None        1     False   False  False        NaN    1.0   \n",
              "6   True Ocean        1     False   False   True        NaN    1.0   \n",
              "7   True Ocean        1     False   False   True        NaN    1.0   \n",
              "8    None None        1     False   False  False        NaN    1.0   \n",
              "9    None None        1     False   False  False        NaN    1.0   \n",
              "\n",
              "   ReusedCount Serial   Longitude   Latitude  \n",
              "0            0  B0003  -80.577366  28.561857  \n",
              "1            0  B0005  -80.577366  28.561857  \n",
              "2            0  B0007  -80.577366  28.561857  \n",
              "3            0  B1003 -120.610829  34.632093  \n",
              "4            0  B1004  -80.577366  28.561857  \n",
              "5            0  B1005  -80.577366  28.561857  \n",
              "6            0  B1006  -80.577366  28.561857  \n",
              "7            0  B1007  -80.577366  28.561857  \n",
              "8            0  B1008  -80.577366  28.561857  \n",
              "9            0  B1011  -80.577366  28.561857  "
            ],
            "text/html": [
              "\n",
              "  <div id=\"df-bafab5f5-a965-4dd3-89d7-6e4081215ddb\">\n",
              "    <div class=\"colab-df-container\">\n",
              "      <div>\n",
              "<style scoped>\n",
              "    .dataframe tbody tr th:only-of-type {\n",
              "        vertical-align: middle;\n",
              "    }\n",
              "\n",
              "    .dataframe tbody tr th {\n",
              "        vertical-align: top;\n",
              "    }\n",
              "\n",
              "    .dataframe thead th {\n",
              "        text-align: right;\n",
              "    }\n",
              "</style>\n",
              "<table border=\"1\" class=\"dataframe\">\n",
              "  <thead>\n",
              "    <tr style=\"text-align: right;\">\n",
              "      <th></th>\n",
              "      <th>FlightNumber</th>\n",
              "      <th>Date</th>\n",
              "      <th>BoosterVersion</th>\n",
              "      <th>PayloadMass</th>\n",
              "      <th>Orbit</th>\n",
              "      <th>LaunchSite</th>\n",
              "      <th>Outcome</th>\n",
              "      <th>Flights</th>\n",
              "      <th>GridFins</th>\n",
              "      <th>Reused</th>\n",
              "      <th>Legs</th>\n",
              "      <th>LandingPad</th>\n",
              "      <th>Block</th>\n",
              "      <th>ReusedCount</th>\n",
              "      <th>Serial</th>\n",
              "      <th>Longitude</th>\n",
              "      <th>Latitude</th>\n",
              "    </tr>\n",
              "  </thead>\n",
              "  <tbody>\n",
              "    <tr>\n",
              "      <th>0</th>\n",
              "      <td>1</td>\n",
              "      <td>2010-06-04</td>\n",
              "      <td>Falcon 9</td>\n",
              "      <td>6104.959412</td>\n",
              "      <td>LEO</td>\n",
              "      <td>CCAFS SLC 40</td>\n",
              "      <td>None None</td>\n",
              "      <td>1</td>\n",
              "      <td>False</td>\n",
              "      <td>False</td>\n",
              "      <td>False</td>\n",
              "      <td>NaN</td>\n",
              "      <td>1.0</td>\n",
              "      <td>0</td>\n",
              "      <td>B0003</td>\n",
              "      <td>-80.577366</td>\n",
              "      <td>28.561857</td>\n",
              "    </tr>\n",
              "    <tr>\n",
              "      <th>1</th>\n",
              "      <td>2</td>\n",
              "      <td>2012-05-22</td>\n",
              "      <td>Falcon 9</td>\n",
              "      <td>525.000000</td>\n",
              "      <td>LEO</td>\n",
              "      <td>CCAFS SLC 40</td>\n",
              "      <td>None None</td>\n",
              "      <td>1</td>\n",
              "      <td>False</td>\n",
              "      <td>False</td>\n",
              "      <td>False</td>\n",
              "      <td>NaN</td>\n",
              "      <td>1.0</td>\n",
              "      <td>0</td>\n",
              "      <td>B0005</td>\n",
              "      <td>-80.577366</td>\n",
              "      <td>28.561857</td>\n",
              "    </tr>\n",
              "    <tr>\n",
              "      <th>2</th>\n",
              "      <td>3</td>\n",
              "      <td>2013-03-01</td>\n",
              "      <td>Falcon 9</td>\n",
              "      <td>677.000000</td>\n",
              "      <td>ISS</td>\n",
              "      <td>CCAFS SLC 40</td>\n",
              "      <td>None None</td>\n",
              "      <td>1</td>\n",
              "      <td>False</td>\n",
              "      <td>False</td>\n",
              "      <td>False</td>\n",
              "      <td>NaN</td>\n",
              "      <td>1.0</td>\n",
              "      <td>0</td>\n",
              "      <td>B0007</td>\n",
              "      <td>-80.577366</td>\n",
              "      <td>28.561857</td>\n",
              "    </tr>\n",
              "    <tr>\n",
              "      <th>3</th>\n",
              "      <td>4</td>\n",
              "      <td>2013-09-29</td>\n",
              "      <td>Falcon 9</td>\n",
              "      <td>500.000000</td>\n",
              "      <td>PO</td>\n",
              "      <td>VAFB SLC 4E</td>\n",
              "      <td>False Ocean</td>\n",
              "      <td>1</td>\n",
              "      <td>False</td>\n",
              "      <td>False</td>\n",
              "      <td>False</td>\n",
              "      <td>NaN</td>\n",
              "      <td>1.0</td>\n",
              "      <td>0</td>\n",
              "      <td>B1003</td>\n",
              "      <td>-120.610829</td>\n",
              "      <td>34.632093</td>\n",
              "    </tr>\n",
              "    <tr>\n",
              "      <th>4</th>\n",
              "      <td>5</td>\n",
              "      <td>2013-12-03</td>\n",
              "      <td>Falcon 9</td>\n",
              "      <td>3170.000000</td>\n",
              "      <td>GTO</td>\n",
              "      <td>CCAFS SLC 40</td>\n",
              "      <td>None None</td>\n",
              "      <td>1</td>\n",
              "      <td>False</td>\n",
              "      <td>False</td>\n",
              "      <td>False</td>\n",
              "      <td>NaN</td>\n",
              "      <td>1.0</td>\n",
              "      <td>0</td>\n",
              "      <td>B1004</td>\n",
              "      <td>-80.577366</td>\n",
              "      <td>28.561857</td>\n",
              "    </tr>\n",
              "    <tr>\n",
              "      <th>5</th>\n",
              "      <td>6</td>\n",
              "      <td>2014-01-06</td>\n",
              "      <td>Falcon 9</td>\n",
              "      <td>3325.000000</td>\n",
              "      <td>GTO</td>\n",
              "      <td>CCAFS SLC 40</td>\n",
              "      <td>None None</td>\n",
              "      <td>1</td>\n",
              "      <td>False</td>\n",
              "      <td>False</td>\n",
              "      <td>False</td>\n",
              "      <td>NaN</td>\n",
              "      <td>1.0</td>\n",
              "      <td>0</td>\n",
              "      <td>B1005</td>\n",
              "      <td>-80.577366</td>\n",
              "      <td>28.561857</td>\n",
              "    </tr>\n",
              "    <tr>\n",
              "      <th>6</th>\n",
              "      <td>7</td>\n",
              "      <td>2014-04-18</td>\n",
              "      <td>Falcon 9</td>\n",
              "      <td>2296.000000</td>\n",
              "      <td>ISS</td>\n",
              "      <td>CCAFS SLC 40</td>\n",
              "      <td>True Ocean</td>\n",
              "      <td>1</td>\n",
              "      <td>False</td>\n",
              "      <td>False</td>\n",
              "      <td>True</td>\n",
              "      <td>NaN</td>\n",
              "      <td>1.0</td>\n",
              "      <td>0</td>\n",
              "      <td>B1006</td>\n",
              "      <td>-80.577366</td>\n",
              "      <td>28.561857</td>\n",
              "    </tr>\n",
              "    <tr>\n",
              "      <th>7</th>\n",
              "      <td>8</td>\n",
              "      <td>2014-07-14</td>\n",
              "      <td>Falcon 9</td>\n",
              "      <td>1316.000000</td>\n",
              "      <td>LEO</td>\n",
              "      <td>CCAFS SLC 40</td>\n",
              "      <td>True Ocean</td>\n",
              "      <td>1</td>\n",
              "      <td>False</td>\n",
              "      <td>False</td>\n",
              "      <td>True</td>\n",
              "      <td>NaN</td>\n",
              "      <td>1.0</td>\n",
              "      <td>0</td>\n",
              "      <td>B1007</td>\n",
              "      <td>-80.577366</td>\n",
              "      <td>28.561857</td>\n",
              "    </tr>\n",
              "    <tr>\n",
              "      <th>8</th>\n",
              "      <td>9</td>\n",
              "      <td>2014-08-05</td>\n",
              "      <td>Falcon 9</td>\n",
              "      <td>4535.000000</td>\n",
              "      <td>GTO</td>\n",
              "      <td>CCAFS SLC 40</td>\n",
              "      <td>None None</td>\n",
              "      <td>1</td>\n",
              "      <td>False</td>\n",
              "      <td>False</td>\n",
              "      <td>False</td>\n",
              "      <td>NaN</td>\n",
              "      <td>1.0</td>\n",
              "      <td>0</td>\n",
              "      <td>B1008</td>\n",
              "      <td>-80.577366</td>\n",
              "      <td>28.561857</td>\n",
              "    </tr>\n",
              "    <tr>\n",
              "      <th>9</th>\n",
              "      <td>10</td>\n",
              "      <td>2014-09-07</td>\n",
              "      <td>Falcon 9</td>\n",
              "      <td>4428.000000</td>\n",
              "      <td>GTO</td>\n",
              "      <td>CCAFS SLC 40</td>\n",
              "      <td>None None</td>\n",
              "      <td>1</td>\n",
              "      <td>False</td>\n",
              "      <td>False</td>\n",
              "      <td>False</td>\n",
              "      <td>NaN</td>\n",
              "      <td>1.0</td>\n",
              "      <td>0</td>\n",
              "      <td>B1011</td>\n",
              "      <td>-80.577366</td>\n",
              "      <td>28.561857</td>\n",
              "    </tr>\n",
              "  </tbody>\n",
              "</table>\n",
              "</div>\n",
              "      <button class=\"colab-df-convert\" onclick=\"convertToInteractive('df-bafab5f5-a965-4dd3-89d7-6e4081215ddb')\"\n",
              "              title=\"Convert this dataframe to an interactive table.\"\n",
              "              style=\"display:none;\">\n",
              "        \n",
              "  <svg xmlns=\"http://www.w3.org/2000/svg\" height=\"24px\"viewBox=\"0 0 24 24\"\n",
              "       width=\"24px\">\n",
              "    <path d=\"M0 0h24v24H0V0z\" fill=\"none\"/>\n",
              "    <path d=\"M18.56 5.44l.94 2.06.94-2.06 2.06-.94-2.06-.94-.94-2.06-.94 2.06-2.06.94zm-11 1L8.5 8.5l.94-2.06 2.06-.94-2.06-.94L8.5 2.5l-.94 2.06-2.06.94zm10 10l.94 2.06.94-2.06 2.06-.94-2.06-.94-.94-2.06-.94 2.06-2.06.94z\"/><path d=\"M17.41 7.96l-1.37-1.37c-.4-.4-.92-.59-1.43-.59-.52 0-1.04.2-1.43.59L10.3 9.45l-7.72 7.72c-.78.78-.78 2.05 0 2.83L4 21.41c.39.39.9.59 1.41.59.51 0 1.02-.2 1.41-.59l7.78-7.78 2.81-2.81c.8-.78.8-2.07 0-2.86zM5.41 20L4 18.59l7.72-7.72 1.47 1.35L5.41 20z\"/>\n",
              "  </svg>\n",
              "      </button>\n",
              "      \n",
              "  <style>\n",
              "    .colab-df-container {\n",
              "      display:flex;\n",
              "      flex-wrap:wrap;\n",
              "      gap: 12px;\n",
              "    }\n",
              "\n",
              "    .colab-df-convert {\n",
              "      background-color: #E8F0FE;\n",
              "      border: none;\n",
              "      border-radius: 50%;\n",
              "      cursor: pointer;\n",
              "      display: none;\n",
              "      fill: #1967D2;\n",
              "      height: 32px;\n",
              "      padding: 0 0 0 0;\n",
              "      width: 32px;\n",
              "    }\n",
              "\n",
              "    .colab-df-convert:hover {\n",
              "      background-color: #E2EBFA;\n",
              "      box-shadow: 0px 1px 2px rgba(60, 64, 67, 0.3), 0px 1px 3px 1px rgba(60, 64, 67, 0.15);\n",
              "      fill: #174EA6;\n",
              "    }\n",
              "\n",
              "    [theme=dark] .colab-df-convert {\n",
              "      background-color: #3B4455;\n",
              "      fill: #D2E3FC;\n",
              "    }\n",
              "\n",
              "    [theme=dark] .colab-df-convert:hover {\n",
              "      background-color: #434B5C;\n",
              "      box-shadow: 0px 1px 3px 1px rgba(0, 0, 0, 0.15);\n",
              "      filter: drop-shadow(0px 1px 2px rgba(0, 0, 0, 0.3));\n",
              "      fill: #FFFFFF;\n",
              "    }\n",
              "  </style>\n",
              "\n",
              "      <script>\n",
              "        const buttonEl =\n",
              "          document.querySelector('#df-bafab5f5-a965-4dd3-89d7-6e4081215ddb button.colab-df-convert');\n",
              "        buttonEl.style.display =\n",
              "          google.colab.kernel.accessAllowed ? 'block' : 'none';\n",
              "\n",
              "        async function convertToInteractive(key) {\n",
              "          const element = document.querySelector('#df-bafab5f5-a965-4dd3-89d7-6e4081215ddb');\n",
              "          const dataTable =\n",
              "            await google.colab.kernel.invokeFunction('convertToInteractive',\n",
              "                                                     [key], {});\n",
              "          if (!dataTable) return;\n",
              "\n",
              "          const docLinkHtml = 'Like what you see? Visit the ' +\n",
              "            '<a target=\"_blank\" href=https://colab.research.google.com/notebooks/data_table.ipynb>data table notebook</a>'\n",
              "            + ' to learn more about interactive tables.';\n",
              "          element.innerHTML = '';\n",
              "          dataTable['output_type'] = 'display_data';\n",
              "          await google.colab.output.renderOutput(dataTable, element);\n",
              "          const docLink = document.createElement('div');\n",
              "          docLink.innerHTML = docLinkHtml;\n",
              "          element.appendChild(docLink);\n",
              "        }\n",
              "      </script>\n",
              "    </div>\n",
              "  </div>\n",
              "  "
            ]
          },
          "metadata": {},
          "execution_count": 2
        }
      ],
      "source": [
        "df=pd.read_csv(\"https://cf-courses-data.s3.us.cloud-object-storage.appdomain.cloud/IBM-DS0321EN-SkillsNetwork/datasets/dataset_part_1.csv\")\n",
        "df.head(10)"
      ]
    },
    {
      "cell_type": "markdown",
      "metadata": {
        "id": "sY7xo0K49fUb"
      },
      "source": [
        "Identify and calculate the percentage of the missing values in each attribute\n"
      ]
    },
    {
      "cell_type": "code",
      "execution_count": 3,
      "metadata": {
        "colab": {
          "base_uri": "https://localhost:8080/"
        },
        "id": "1VudxWXM9fUc",
        "outputId": "c3408dd9-515b-4817-bccc-bf82c311aa50"
      },
      "outputs": [
        {
          "output_type": "execute_result",
          "data": {
            "text/plain": [
              "FlightNumber       0.000\n",
              "Date               0.000\n",
              "BoosterVersion     0.000\n",
              "PayloadMass        0.000\n",
              "Orbit              0.000\n",
              "LaunchSite         0.000\n",
              "Outcome            0.000\n",
              "Flights            0.000\n",
              "GridFins           0.000\n",
              "Reused             0.000\n",
              "Legs               0.000\n",
              "LandingPad        40.625\n",
              "Block              0.000\n",
              "ReusedCount        0.000\n",
              "Serial             0.000\n",
              "Longitude          0.000\n",
              "Latitude           0.000\n",
              "dtype: float64"
            ]
          },
          "metadata": {},
          "execution_count": 3
        }
      ],
      "source": [
        "df.isnull().sum()/df.count()*100"
      ]
    },
    {
      "cell_type": "markdown",
      "metadata": {
        "id": "ngB6hhEn9fUc"
      },
      "source": [
        "Identify which columns are numerical and categorical:\n"
      ]
    },
    {
      "cell_type": "code",
      "execution_count": 4,
      "metadata": {
        "colab": {
          "base_uri": "https://localhost:8080/"
        },
        "id": "SVYw5Gg_9fUd",
        "outputId": "cbbb9555-3a47-4370-8b56-58ce7b13b88e"
      },
      "outputs": [
        {
          "output_type": "execute_result",
          "data": {
            "text/plain": [
              "FlightNumber        int64\n",
              "Date               object\n",
              "BoosterVersion     object\n",
              "PayloadMass       float64\n",
              "Orbit              object\n",
              "LaunchSite         object\n",
              "Outcome            object\n",
              "Flights             int64\n",
              "GridFins             bool\n",
              "Reused               bool\n",
              "Legs                 bool\n",
              "LandingPad         object\n",
              "Block             float64\n",
              "ReusedCount         int64\n",
              "Serial             object\n",
              "Longitude         float64\n",
              "Latitude          float64\n",
              "dtype: object"
            ]
          },
          "metadata": {},
          "execution_count": 4
        }
      ],
      "source": [
        "df.dtypes"
      ]
    },
    {
      "cell_type": "markdown",
      "metadata": {
        "id": "KzsHmBAB9fUd"
      },
      "source": [
        "### TASK 1: Calculate the number of launches on each site\n",
        "\n",
        "The data contains several Space X  launch facilities: <a href='https://en.wikipedia.org/wiki/List_of_Cape_Canaveral_and_Merritt_Island_launch_sites?utm_medium=Exinfluencer&utm_source=Exinfluencer&utm_content=000026UJ&utm_term=10006555&utm_id=NA-SkillsNetwork-Channel-SkillsNetworkCoursesIBMDS0321ENSkillsNetwork26802033-2021-01-01'>Cape Canaveral Space</a> Launch Complex 40  <b>VAFB SLC 4E </b> , Vandenberg Air Force Base Space Launch Complex 4E <b>(SLC-4E)</b>, Kennedy Space Center Launch Complex 39A <b>KSC LC 39A </b>.The location of each Launch Is placed in the column <code>LaunchSite</code>\n"
      ]
    },
    {
      "cell_type": "markdown",
      "metadata": {
        "id": "lZYVXsA-9fUe"
      },
      "source": [
        "Next, let's see the number of launches for each site.\n",
        "\n",
        "Use the method  <code>value_counts()</code> on the column <code>LaunchSite</code> to determine the number of launches  on each site:\n"
      ]
    },
    {
      "cell_type": "code",
      "execution_count": 5,
      "metadata": {
        "colab": {
          "base_uri": "https://localhost:8080/"
        },
        "id": "BQVx8OHH9fUe",
        "outputId": "500cc202-c68f-48a1-8cd1-8eb1176fc088"
      },
      "outputs": [
        {
          "output_type": "execute_result",
          "data": {
            "text/plain": [
              "LaunchSite\n",
              "CCAFS SLC 40    55\n",
              "KSC LC 39A      22\n",
              "VAFB SLC 4E     13\n",
              "dtype: int64"
            ]
          },
          "metadata": {},
          "execution_count": 5
        }
      ],
      "source": [
        "# Apply value_counts() on column LaunchSite\n",
        "df.value_counts(\"LaunchSite\")"
      ]
    },
    {
      "cell_type": "markdown",
      "metadata": {
        "id": "dZCIrN2Z9fUf"
      },
      "source": [
        "Each launch aims to an dedicated orbit, and here are some common orbit types:\n"
      ]
    },
    {
      "cell_type": "markdown",
      "metadata": {
        "id": "vLZ9E7C89fUg"
      },
      "source": [
        "*   <b>LEO</b>: Low Earth orbit (LEO)is an Earth-centred orbit with an altitude of 2,000 km (1,200 mi) or less (approximately one-third of the radius of Earth),\\[1] or with at least 11.25 periods per day (an orbital period of 128 minutes or less) and an eccentricity less than 0.25.\\[2] Most of the manmade objects in outer space are in LEO <a href='https://en.wikipedia.org/wiki/Low_Earth_orbit?utm_medium=Exinfluencer&utm_source=Exinfluencer&utm_content=000026UJ&utm_term=10006555&utm_id=NA-SkillsNetwork-Channel-SkillsNetworkCoursesIBMDS0321ENSkillsNetwork26802033-2021-01-01'>\\[1]</a>.\n",
        "\n",
        "*   <b>VLEO</b>: Very Low Earth Orbits (VLEO) can be defined as the orbits with a mean altitude below 450 km. Operating in these orbits can provide a number of benefits to Earth observation spacecraft as the spacecraft operates closer to the observation<a href='https://www.researchgate.net/publication/271499606_Very_Low_Earth_Orbit_mission_concepts_for_Earth_Observation_Benefits_and_challenges?utm_medium=Exinfluencer&utm_source=Exinfluencer&utm_content=000026UJ&utm_term=10006555&utm_id=NA-SkillsNetwork-Channel-SkillsNetworkCoursesIBMDS0321ENSkillsNetwork26802033-2021-01-01'>\\[2]</a>.\n",
        "\n",
        "*   <b>GTO</b> A geosynchronous orbit is a high Earth orbit that allows satellites to match Earth's rotation. Located at 22,236 miles (35,786 kilometers) above Earth's equator, this position is a valuable spot for monitoring weather, communications and surveillance. Because the satellite orbits at the same speed that the Earth is turning, the satellite seems to stay in place over a single longitude, though it may drift north to south,” NASA wrote on its Earth Observatory website <a  href=\"https://www.space.com/29222-geosynchronous-orbit.html?utm_medium=Exinfluencer&utm_source=Exinfluencer&utm_content=000026UJ&utm_term=10006555&utm_id=NA-SkillsNetwork-Channel-SkillsNetworkCoursesIBMDS0321ENSkillsNetwork26802033-2021-01-01\" >\\[3] </a>.\n",
        "\n",
        "*   <b>SSO (or SO)</b>: It is a Sun-synchronous orbit  also called a heliosynchronous orbit is a nearly polar orbit around a planet, in which the satellite passes over any given point of the planet's surface at the same local mean solar time <a href=\"https://en.wikipedia.org/wiki/Sun-synchronous_orbit?utm_medium=Exinfluencer&utm_source=Exinfluencer&utm_content=000026UJ&utm_term=10006555&utm_id=NA-SkillsNetwork-Channel-SkillsNetworkCoursesIBMDS0321ENSkillsNetwork26802033-2021-01-01\">\\[4] <a>.\n",
        "\n",
        "*   <b>ES-L1 </b>:At the Lagrange points the gravitational forces of the two large bodies cancel out in such a way that a small object placed in orbit there is in equilibrium relative to the center of mass of the large bodies. L1 is one such point between the sun and the earth <a href=\"https://en.wikipedia.org/wiki/Lagrange_point?utm_medium=Exinfluencer&utm_source=Exinfluencer&utm_content=000026UJ&utm_term=10006555&utm_id=NA-SkillsNetwork-Channel-SkillsNetworkCoursesIBMDS0321ENSkillsNetwork26802033-2021-01-01#L1_point\">\\[5]</a> .\n",
        "\n",
        "*   <b>HEO</b> A highly elliptical orbit, is an elliptic orbit with high eccentricity, usually referring to one around Earth <a href=\"https://en.wikipedia.org/wiki/Highly_elliptical_orbit?utm_medium=Exinfluencer&utm_source=Exinfluencer&utm_content=000026UJ&utm_term=10006555&utm_id=NA-SkillsNetwork-Channel-SkillsNetworkCoursesIBMDS0321ENSkillsNetwork26802033-2021-01-01\">\\[6]</a>.\n",
        "\n",
        "*   <b> ISS </b> A modular space station (habitable artificial satellite) in low Earth orbit. It is a multinational collaborative project between five participating space agencies: NASA (United States), Roscosmos (Russia), JAXA (Japan), ESA (Europe), and CSA (Canada)<a href=\"https://en.wikipedia.org/wiki/International_Space_Station?utm_medium=Exinfluencer&utm_source=Exinfluencer&utm_content=000026UJ&utm_term=10006555&utm_id=NA-SkillsNetwork-Channel-SkillsNetworkCoursesIBMDS0321ENSkillsNetwork26802033-2021-01-01\"> \\[7] </a>\n",
        "\n",
        "*   <b> MEO </b> Geocentric orbits ranging in altitude from 2,000 km (1,200 mi) to just below geosynchronous orbit at 35,786 kilometers (22,236 mi). Also known as an intermediate circular orbit. These are \"most commonly at 20,200 kilometers (12,600 mi), or 20,650 kilometers (12,830 mi), with an orbital period of 12 hours <a href=\"https://en.wikipedia.org/wiki/List_of_orbits?utm_medium=Exinfluencer&utm_source=Exinfluencer&utm_content=000026UJ&utm_term=10006555&utm_id=NA-SkillsNetwork-Channel-SkillsNetworkCoursesIBMDS0321ENSkillsNetwork26802033-2021-01-01\"> \\[8] </a>\n",
        "\n",
        "*   <b> HEO </b> Geocentric orbits above the altitude of geosynchronous orbit (35,786 km or 22,236 mi) <a href=\"https://en.wikipedia.org/wiki/List_of_orbits?utm_medium=Exinfluencer&utm_source=Exinfluencer&utm_content=000026UJ&utm_term=10006555&utm_id=NA-SkillsNetwork-Channel-SkillsNetworkCoursesIBMDS0321ENSkillsNetwork26802033-2021-01-01\"> \\[9] </a>\n",
        "\n",
        "*   <b> GEO </b> It is a circular geosynchronous orbit 35,786 kilometres (22,236 miles) above Earth's equator and following the direction of Earth's rotation <a href=\"https://en.wikipedia.org/wiki/Geostationary_orbit?utm_medium=Exinfluencer&utm_source=Exinfluencer&utm_content=000026UJ&utm_term=10006555&utm_id=NA-SkillsNetwork-Channel-SkillsNetworkCoursesIBMDS0321ENSkillsNetwork26802033-2021-01-01\"> \\[10] </a>\n",
        "\n",
        "*   <b> PO </b> It is one type of satellites in which a satellite passes above or nearly above both poles of the body being orbited (usually a planet such as the Earth <a href=\"https://en.wikipedia.org/wiki/Polar_orbit?utm_medium=Exinfluencer&utm_source=Exinfluencer&utm_content=000026UJ&utm_term=10006555&utm_id=NA-SkillsNetwork-Channel-SkillsNetworkCoursesIBMDS0321ENSkillsNetwork26802033-2021-01-01\"> \\[11] </a>\n",
        "\n",
        "some are shown in the following plot:\n"
      ]
    },
    {
      "cell_type": "markdown",
      "metadata": {
        "id": "dgRVLNMS9fUh"
      },
      "source": [
        "![](https://cf-courses-data.s3.us.cloud-object-storage.appdomain.cloud/IBMDeveloperSkillsNetwork-DS0701EN-SkillsNetwork/api/Images/Orbits.png)\n"
      ]
    },
    {
      "cell_type": "markdown",
      "metadata": {
        "id": "NtL88vqb9fUh"
      },
      "source": [
        "### TASK 2: Calculate the number and occurrence of each orbit\n"
      ]
    },
    {
      "cell_type": "markdown",
      "metadata": {
        "id": "pnsFRrjZ9fUi"
      },
      "source": [
        "Use the method  <code>.value_counts()</code> to determine the number and occurrence of each orbit in the  column <code>Orbit</code>\n"
      ]
    },
    {
      "cell_type": "code",
      "execution_count": 6,
      "metadata": {
        "colab": {
          "base_uri": "https://localhost:8080/"
        },
        "id": "ziySNDG-9fUi",
        "outputId": "27a8dd38-7bb7-489c-edc7-c0e73af641a7"
      },
      "outputs": [
        {
          "output_type": "execute_result",
          "data": {
            "text/plain": [
              "Orbit\n",
              "GTO      27\n",
              "ISS      21\n",
              "VLEO     14\n",
              "PO        9\n",
              "LEO       7\n",
              "SSO       5\n",
              "MEO       3\n",
              "ES-L1     1\n",
              "GEO       1\n",
              "HEO       1\n",
              "SO        1\n",
              "dtype: int64"
            ]
          },
          "metadata": {},
          "execution_count": 6
        }
      ],
      "source": [
        "# Apply value_counts on Orbit column\n",
        "df.value_counts(\"Orbit\")"
      ]
    },
    {
      "cell_type": "markdown",
      "metadata": {
        "id": "6V8ZVsmr9fUj"
      },
      "source": [
        "### TASK 3: Calculate the number and occurence of mission outcome per orbit type\n"
      ]
    },
    {
      "cell_type": "markdown",
      "metadata": {
        "id": "8I6xNkxN9fUk"
      },
      "source": [
        "Use the method <code>.value_counts()</code> on the column <code>Outcome</code> to determine the number of <code>landing_outcomes</code>.Then assign it to a variable landing_outcomes.\n"
      ]
    },
    {
      "cell_type": "code",
      "execution_count": 7,
      "metadata": {
        "colab": {
          "base_uri": "https://localhost:8080/"
        },
        "id": "XanPFFaY9fUl",
        "outputId": "2ed307f8-ff7c-4ef5-df6b-289cee043c53"
      },
      "outputs": [
        {
          "output_type": "execute_result",
          "data": {
            "text/plain": [
              "Outcome\n",
              "True ASDS      41\n",
              "None None      19\n",
              "True RTLS      14\n",
              "False ASDS      6\n",
              "True Ocean      5\n",
              "False Ocean     2\n",
              "None ASDS       2\n",
              "False RTLS      1\n",
              "dtype: int64"
            ]
          },
          "metadata": {},
          "execution_count": 7
        }
      ],
      "source": [
        "# landing_outcomes = values on Outcome column\n",
        "landing_outcomes = df.value_counts(\"Outcome\")\n",
        "landing_outcomes"
      ]
    },
    {
      "cell_type": "markdown",
      "metadata": {
        "id": "7NiGJdx_9fUm"
      },
      "source": [
        "<code>True Ocean</code> means the mission outcome was successfully  landed to a specific region of the ocean while <code>False Ocean</code> means the mission outcome was unsuccessfully landed to a specific region of the ocean. <code>True RTLS</code> means the mission outcome was successfully  landed to a ground pad <code>False RTLS</code> means the mission outcome was unsuccessfully landed to a ground pad.<code>True ASDS</code> means the mission outcome was successfully  landed to a drone ship <code>False ASDS</code> means the mission outcome was unsuccessfully landed to a drone ship. <code>None ASDS</code> and <code>None None</code> these represent a failure to land.\n"
      ]
    },
    {
      "cell_type": "code",
      "execution_count": 8,
      "metadata": {
        "colab": {
          "base_uri": "https://localhost:8080/"
        },
        "id": "w0RIPpcr9fUn",
        "outputId": "3d1643dd-c498-4fd4-c868-6099c165ff2d"
      },
      "outputs": [
        {
          "output_type": "stream",
          "name": "stdout",
          "text": [
            "0 True ASDS\n",
            "1 None None\n",
            "2 True RTLS\n",
            "3 False ASDS\n",
            "4 True Ocean\n",
            "5 False Ocean\n",
            "6 None ASDS\n",
            "7 False RTLS\n"
          ]
        }
      ],
      "source": [
        "for i,outcome in enumerate(landing_outcomes.keys()):\n",
        "    print(i,outcome)"
      ]
    },
    {
      "cell_type": "markdown",
      "metadata": {
        "id": "OKyEXSuZ9fUo"
      },
      "source": [
        "We create a set of outcomes where the second stage did not land successfully:\n"
      ]
    },
    {
      "cell_type": "code",
      "execution_count": 9,
      "metadata": {
        "colab": {
          "base_uri": "https://localhost:8080/"
        },
        "id": "D_KQx5mx9fUo",
        "outputId": "ea235c3f-47ad-4c88-e21a-874c53505608"
      },
      "outputs": [
        {
          "output_type": "execute_result",
          "data": {
            "text/plain": [
              "{'False ASDS', 'False Ocean', 'False RTLS', 'None ASDS', 'None None'}"
            ]
          },
          "metadata": {},
          "execution_count": 9
        }
      ],
      "source": [
        "bad_outcomes=set(landing_outcomes.keys()[[1,3,5,6,7]])\n",
        "bad_outcomes"
      ]
    },
    {
      "cell_type": "markdown",
      "metadata": {
        "id": "UUhJznqD9fUp"
      },
      "source": [
        "### TASK 4: Create a landing outcome label from Outcome column\n"
      ]
    },
    {
      "cell_type": "markdown",
      "metadata": {
        "id": "zPbjGlMB9fUp"
      },
      "source": [
        "Using the <code>Outcome</code>,  create a list where the element is zero if the corresponding  row  in  <code>Outcome</code> is in the set <code>bad_outcome</code>; otherwise, it's one. Then assign it to the variable <code>landing_class</code>:\n"
      ]
    },
    {
      "cell_type": "code",
      "execution_count": 10,
      "metadata": {
        "colab": {
          "base_uri": "https://localhost:8080/"
        },
        "id": "FWJb053Y9fUq",
        "outputId": "a4283a7a-eb95-4f0c-9636-3cdf2c88d0be"
      },
      "outputs": [
        {
          "output_type": "execute_result",
          "data": {
            "text/plain": [
              "1"
            ]
          },
          "metadata": {},
          "execution_count": 10
        }
      ],
      "source": [
        "# landing_class = 0 if bad_outcome\n",
        "# landing_class = 1 otherwise\n",
        "landing_class = []\n",
        "for row in bad_outcomes:\n",
        "    if bad_outcomes is True:\n",
        "        landing_class = 0\n",
        "    else:\n",
        "        landing_class = 1    \n",
        "landing_class"
      ]
    },
    {
      "cell_type": "markdown",
      "metadata": {
        "id": "VO71iit39fUr"
      },
      "source": [
        "This variable will represent the classification variable that represents the outcome of each launch. If the value is zero, the  first stage did not land successfully; one means  the first stage landed Successfully\n"
      ]
    },
    {
      "cell_type": "code",
      "execution_count": 11,
      "metadata": {
        "colab": {
          "base_uri": "https://localhost:8080/",
          "height": 297
        },
        "id": "Io0TNDqe9fUs",
        "outputId": "5082cbc3-388b-4901-fd96-678bc464d890"
      },
      "outputs": [
        {
          "output_type": "execute_result",
          "data": {
            "text/plain": [
              "   Class\n",
              "0      1\n",
              "1      1\n",
              "2      1\n",
              "3      1\n",
              "4      1\n",
              "5      1\n",
              "6      1\n",
              "7      1"
            ],
            "text/html": [
              "\n",
              "  <div id=\"df-9933518a-bc9a-4b03-8f30-7995eb0b9bb7\">\n",
              "    <div class=\"colab-df-container\">\n",
              "      <div>\n",
              "<style scoped>\n",
              "    .dataframe tbody tr th:only-of-type {\n",
              "        vertical-align: middle;\n",
              "    }\n",
              "\n",
              "    .dataframe tbody tr th {\n",
              "        vertical-align: top;\n",
              "    }\n",
              "\n",
              "    .dataframe thead th {\n",
              "        text-align: right;\n",
              "    }\n",
              "</style>\n",
              "<table border=\"1\" class=\"dataframe\">\n",
              "  <thead>\n",
              "    <tr style=\"text-align: right;\">\n",
              "      <th></th>\n",
              "      <th>Class</th>\n",
              "    </tr>\n",
              "  </thead>\n",
              "  <tbody>\n",
              "    <tr>\n",
              "      <th>0</th>\n",
              "      <td>1</td>\n",
              "    </tr>\n",
              "    <tr>\n",
              "      <th>1</th>\n",
              "      <td>1</td>\n",
              "    </tr>\n",
              "    <tr>\n",
              "      <th>2</th>\n",
              "      <td>1</td>\n",
              "    </tr>\n",
              "    <tr>\n",
              "      <th>3</th>\n",
              "      <td>1</td>\n",
              "    </tr>\n",
              "    <tr>\n",
              "      <th>4</th>\n",
              "      <td>1</td>\n",
              "    </tr>\n",
              "    <tr>\n",
              "      <th>5</th>\n",
              "      <td>1</td>\n",
              "    </tr>\n",
              "    <tr>\n",
              "      <th>6</th>\n",
              "      <td>1</td>\n",
              "    </tr>\n",
              "    <tr>\n",
              "      <th>7</th>\n",
              "      <td>1</td>\n",
              "    </tr>\n",
              "  </tbody>\n",
              "</table>\n",
              "</div>\n",
              "      <button class=\"colab-df-convert\" onclick=\"convertToInteractive('df-9933518a-bc9a-4b03-8f30-7995eb0b9bb7')\"\n",
              "              title=\"Convert this dataframe to an interactive table.\"\n",
              "              style=\"display:none;\">\n",
              "        \n",
              "  <svg xmlns=\"http://www.w3.org/2000/svg\" height=\"24px\"viewBox=\"0 0 24 24\"\n",
              "       width=\"24px\">\n",
              "    <path d=\"M0 0h24v24H0V0z\" fill=\"none\"/>\n",
              "    <path d=\"M18.56 5.44l.94 2.06.94-2.06 2.06-.94-2.06-.94-.94-2.06-.94 2.06-2.06.94zm-11 1L8.5 8.5l.94-2.06 2.06-.94-2.06-.94L8.5 2.5l-.94 2.06-2.06.94zm10 10l.94 2.06.94-2.06 2.06-.94-2.06-.94-.94-2.06-.94 2.06-2.06.94z\"/><path d=\"M17.41 7.96l-1.37-1.37c-.4-.4-.92-.59-1.43-.59-.52 0-1.04.2-1.43.59L10.3 9.45l-7.72 7.72c-.78.78-.78 2.05 0 2.83L4 21.41c.39.39.9.59 1.41.59.51 0 1.02-.2 1.41-.59l7.78-7.78 2.81-2.81c.8-.78.8-2.07 0-2.86zM5.41 20L4 18.59l7.72-7.72 1.47 1.35L5.41 20z\"/>\n",
              "  </svg>\n",
              "      </button>\n",
              "      \n",
              "  <style>\n",
              "    .colab-df-container {\n",
              "      display:flex;\n",
              "      flex-wrap:wrap;\n",
              "      gap: 12px;\n",
              "    }\n",
              "\n",
              "    .colab-df-convert {\n",
              "      background-color: #E8F0FE;\n",
              "      border: none;\n",
              "      border-radius: 50%;\n",
              "      cursor: pointer;\n",
              "      display: none;\n",
              "      fill: #1967D2;\n",
              "      height: 32px;\n",
              "      padding: 0 0 0 0;\n",
              "      width: 32px;\n",
              "    }\n",
              "\n",
              "    .colab-df-convert:hover {\n",
              "      background-color: #E2EBFA;\n",
              "      box-shadow: 0px 1px 2px rgba(60, 64, 67, 0.3), 0px 1px 3px 1px rgba(60, 64, 67, 0.15);\n",
              "      fill: #174EA6;\n",
              "    }\n",
              "\n",
              "    [theme=dark] .colab-df-convert {\n",
              "      background-color: #3B4455;\n",
              "      fill: #D2E3FC;\n",
              "    }\n",
              "\n",
              "    [theme=dark] .colab-df-convert:hover {\n",
              "      background-color: #434B5C;\n",
              "      box-shadow: 0px 1px 3px 1px rgba(0, 0, 0, 0.15);\n",
              "      filter: drop-shadow(0px 1px 2px rgba(0, 0, 0, 0.3));\n",
              "      fill: #FFFFFF;\n",
              "    }\n",
              "  </style>\n",
              "\n",
              "      <script>\n",
              "        const buttonEl =\n",
              "          document.querySelector('#df-9933518a-bc9a-4b03-8f30-7995eb0b9bb7 button.colab-df-convert');\n",
              "        buttonEl.style.display =\n",
              "          google.colab.kernel.accessAllowed ? 'block' : 'none';\n",
              "\n",
              "        async function convertToInteractive(key) {\n",
              "          const element = document.querySelector('#df-9933518a-bc9a-4b03-8f30-7995eb0b9bb7');\n",
              "          const dataTable =\n",
              "            await google.colab.kernel.invokeFunction('convertToInteractive',\n",
              "                                                     [key], {});\n",
              "          if (!dataTable) return;\n",
              "\n",
              "          const docLinkHtml = 'Like what you see? Visit the ' +\n",
              "            '<a target=\"_blank\" href=https://colab.research.google.com/notebooks/data_table.ipynb>data table notebook</a>'\n",
              "            + ' to learn more about interactive tables.';\n",
              "          element.innerHTML = '';\n",
              "          dataTable['output_type'] = 'display_data';\n",
              "          await google.colab.output.renderOutput(dataTable, element);\n",
              "          const docLink = document.createElement('div');\n",
              "          docLink.innerHTML = docLinkHtml;\n",
              "          element.appendChild(docLink);\n",
              "        }\n",
              "      </script>\n",
              "    </div>\n",
              "  </div>\n",
              "  "
            ]
          },
          "metadata": {},
          "execution_count": 11
        }
      ],
      "source": [
        "df['Class']=landing_class\n",
        "df[['Class']].head(8)"
      ]
    },
    {
      "cell_type": "code",
      "execution_count": 12,
      "metadata": {
        "colab": {
          "base_uri": "https://localhost:8080/",
          "height": 204
        },
        "id": "4hJTvb5t9fUs",
        "outputId": "3f42db04-36f3-40f4-f9f6-ea0795c0c50d"
      },
      "outputs": [
        {
          "output_type": "execute_result",
          "data": {
            "text/plain": [
              "    FlightNumber        Date BoosterVersion  PayloadMass Orbit    LaunchSite  \\\n",
              "85            86  2020-09-03       Falcon 9      15400.0  VLEO    KSC LC 39A   \n",
              "86            87  2020-10-06       Falcon 9      15400.0  VLEO    KSC LC 39A   \n",
              "87            88  2020-10-18       Falcon 9      15400.0  VLEO    KSC LC 39A   \n",
              "88            89  2020-10-24       Falcon 9      15400.0  VLEO  CCAFS SLC 40   \n",
              "89            90  2020-11-05       Falcon 9       3681.0   MEO  CCAFS SLC 40   \n",
              "\n",
              "      Outcome  Flights  GridFins  Reused  Legs                LandingPad  \\\n",
              "85  True ASDS        2      True    True  True  5e9e3032383ecb6bb234e7ca   \n",
              "86  True ASDS        3      True    True  True  5e9e3032383ecb6bb234e7ca   \n",
              "87  True ASDS        6      True    True  True  5e9e3032383ecb6bb234e7ca   \n",
              "88  True ASDS        3      True    True  True  5e9e3033383ecbb9e534e7cc   \n",
              "89  True ASDS        1      True   False  True  5e9e3032383ecb6bb234e7ca   \n",
              "\n",
              "    Block  ReusedCount Serial  Longitude   Latitude  Class  \n",
              "85    5.0            2  B1060 -80.603956  28.608058      1  \n",
              "86    5.0            2  B1058 -80.603956  28.608058      1  \n",
              "87    5.0            5  B1051 -80.603956  28.608058      1  \n",
              "88    5.0            2  B1060 -80.577366  28.561857      1  \n",
              "89    5.0            0  B1062 -80.577366  28.561857      1  "
            ],
            "text/html": [
              "\n",
              "  <div id=\"df-c16691af-ebfb-456d-921a-03ca323dcd2e\">\n",
              "    <div class=\"colab-df-container\">\n",
              "      <div>\n",
              "<style scoped>\n",
              "    .dataframe tbody tr th:only-of-type {\n",
              "        vertical-align: middle;\n",
              "    }\n",
              "\n",
              "    .dataframe tbody tr th {\n",
              "        vertical-align: top;\n",
              "    }\n",
              "\n",
              "    .dataframe thead th {\n",
              "        text-align: right;\n",
              "    }\n",
              "</style>\n",
              "<table border=\"1\" class=\"dataframe\">\n",
              "  <thead>\n",
              "    <tr style=\"text-align: right;\">\n",
              "      <th></th>\n",
              "      <th>FlightNumber</th>\n",
              "      <th>Date</th>\n",
              "      <th>BoosterVersion</th>\n",
              "      <th>PayloadMass</th>\n",
              "      <th>Orbit</th>\n",
              "      <th>LaunchSite</th>\n",
              "      <th>Outcome</th>\n",
              "      <th>Flights</th>\n",
              "      <th>GridFins</th>\n",
              "      <th>Reused</th>\n",
              "      <th>Legs</th>\n",
              "      <th>LandingPad</th>\n",
              "      <th>Block</th>\n",
              "      <th>ReusedCount</th>\n",
              "      <th>Serial</th>\n",
              "      <th>Longitude</th>\n",
              "      <th>Latitude</th>\n",
              "      <th>Class</th>\n",
              "    </tr>\n",
              "  </thead>\n",
              "  <tbody>\n",
              "    <tr>\n",
              "      <th>85</th>\n",
              "      <td>86</td>\n",
              "      <td>2020-09-03</td>\n",
              "      <td>Falcon 9</td>\n",
              "      <td>15400.0</td>\n",
              "      <td>VLEO</td>\n",
              "      <td>KSC LC 39A</td>\n",
              "      <td>True ASDS</td>\n",
              "      <td>2</td>\n",
              "      <td>True</td>\n",
              "      <td>True</td>\n",
              "      <td>True</td>\n",
              "      <td>5e9e3032383ecb6bb234e7ca</td>\n",
              "      <td>5.0</td>\n",
              "      <td>2</td>\n",
              "      <td>B1060</td>\n",
              "      <td>-80.603956</td>\n",
              "      <td>28.608058</td>\n",
              "      <td>1</td>\n",
              "    </tr>\n",
              "    <tr>\n",
              "      <th>86</th>\n",
              "      <td>87</td>\n",
              "      <td>2020-10-06</td>\n",
              "      <td>Falcon 9</td>\n",
              "      <td>15400.0</td>\n",
              "      <td>VLEO</td>\n",
              "      <td>KSC LC 39A</td>\n",
              "      <td>True ASDS</td>\n",
              "      <td>3</td>\n",
              "      <td>True</td>\n",
              "      <td>True</td>\n",
              "      <td>True</td>\n",
              "      <td>5e9e3032383ecb6bb234e7ca</td>\n",
              "      <td>5.0</td>\n",
              "      <td>2</td>\n",
              "      <td>B1058</td>\n",
              "      <td>-80.603956</td>\n",
              "      <td>28.608058</td>\n",
              "      <td>1</td>\n",
              "    </tr>\n",
              "    <tr>\n",
              "      <th>87</th>\n",
              "      <td>88</td>\n",
              "      <td>2020-10-18</td>\n",
              "      <td>Falcon 9</td>\n",
              "      <td>15400.0</td>\n",
              "      <td>VLEO</td>\n",
              "      <td>KSC LC 39A</td>\n",
              "      <td>True ASDS</td>\n",
              "      <td>6</td>\n",
              "      <td>True</td>\n",
              "      <td>True</td>\n",
              "      <td>True</td>\n",
              "      <td>5e9e3032383ecb6bb234e7ca</td>\n",
              "      <td>5.0</td>\n",
              "      <td>5</td>\n",
              "      <td>B1051</td>\n",
              "      <td>-80.603956</td>\n",
              "      <td>28.608058</td>\n",
              "      <td>1</td>\n",
              "    </tr>\n",
              "    <tr>\n",
              "      <th>88</th>\n",
              "      <td>89</td>\n",
              "      <td>2020-10-24</td>\n",
              "      <td>Falcon 9</td>\n",
              "      <td>15400.0</td>\n",
              "      <td>VLEO</td>\n",
              "      <td>CCAFS SLC 40</td>\n",
              "      <td>True ASDS</td>\n",
              "      <td>3</td>\n",
              "      <td>True</td>\n",
              "      <td>True</td>\n",
              "      <td>True</td>\n",
              "      <td>5e9e3033383ecbb9e534e7cc</td>\n",
              "      <td>5.0</td>\n",
              "      <td>2</td>\n",
              "      <td>B1060</td>\n",
              "      <td>-80.577366</td>\n",
              "      <td>28.561857</td>\n",
              "      <td>1</td>\n",
              "    </tr>\n",
              "    <tr>\n",
              "      <th>89</th>\n",
              "      <td>90</td>\n",
              "      <td>2020-11-05</td>\n",
              "      <td>Falcon 9</td>\n",
              "      <td>3681.0</td>\n",
              "      <td>MEO</td>\n",
              "      <td>CCAFS SLC 40</td>\n",
              "      <td>True ASDS</td>\n",
              "      <td>1</td>\n",
              "      <td>True</td>\n",
              "      <td>False</td>\n",
              "      <td>True</td>\n",
              "      <td>5e9e3032383ecb6bb234e7ca</td>\n",
              "      <td>5.0</td>\n",
              "      <td>0</td>\n",
              "      <td>B1062</td>\n",
              "      <td>-80.577366</td>\n",
              "      <td>28.561857</td>\n",
              "      <td>1</td>\n",
              "    </tr>\n",
              "  </tbody>\n",
              "</table>\n",
              "</div>\n",
              "      <button class=\"colab-df-convert\" onclick=\"convertToInteractive('df-c16691af-ebfb-456d-921a-03ca323dcd2e')\"\n",
              "              title=\"Convert this dataframe to an interactive table.\"\n",
              "              style=\"display:none;\">\n",
              "        \n",
              "  <svg xmlns=\"http://www.w3.org/2000/svg\" height=\"24px\"viewBox=\"0 0 24 24\"\n",
              "       width=\"24px\">\n",
              "    <path d=\"M0 0h24v24H0V0z\" fill=\"none\"/>\n",
              "    <path d=\"M18.56 5.44l.94 2.06.94-2.06 2.06-.94-2.06-.94-.94-2.06-.94 2.06-2.06.94zm-11 1L8.5 8.5l.94-2.06 2.06-.94-2.06-.94L8.5 2.5l-.94 2.06-2.06.94zm10 10l.94 2.06.94-2.06 2.06-.94-2.06-.94-.94-2.06-.94 2.06-2.06.94z\"/><path d=\"M17.41 7.96l-1.37-1.37c-.4-.4-.92-.59-1.43-.59-.52 0-1.04.2-1.43.59L10.3 9.45l-7.72 7.72c-.78.78-.78 2.05 0 2.83L4 21.41c.39.39.9.59 1.41.59.51 0 1.02-.2 1.41-.59l7.78-7.78 2.81-2.81c.8-.78.8-2.07 0-2.86zM5.41 20L4 18.59l7.72-7.72 1.47 1.35L5.41 20z\"/>\n",
              "  </svg>\n",
              "      </button>\n",
              "      \n",
              "  <style>\n",
              "    .colab-df-container {\n",
              "      display:flex;\n",
              "      flex-wrap:wrap;\n",
              "      gap: 12px;\n",
              "    }\n",
              "\n",
              "    .colab-df-convert {\n",
              "      background-color: #E8F0FE;\n",
              "      border: none;\n",
              "      border-radius: 50%;\n",
              "      cursor: pointer;\n",
              "      display: none;\n",
              "      fill: #1967D2;\n",
              "      height: 32px;\n",
              "      padding: 0 0 0 0;\n",
              "      width: 32px;\n",
              "    }\n",
              "\n",
              "    .colab-df-convert:hover {\n",
              "      background-color: #E2EBFA;\n",
              "      box-shadow: 0px 1px 2px rgba(60, 64, 67, 0.3), 0px 1px 3px 1px rgba(60, 64, 67, 0.15);\n",
              "      fill: #174EA6;\n",
              "    }\n",
              "\n",
              "    [theme=dark] .colab-df-convert {\n",
              "      background-color: #3B4455;\n",
              "      fill: #D2E3FC;\n",
              "    }\n",
              "\n",
              "    [theme=dark] .colab-df-convert:hover {\n",
              "      background-color: #434B5C;\n",
              "      box-shadow: 0px 1px 3px 1px rgba(0, 0, 0, 0.15);\n",
              "      filter: drop-shadow(0px 1px 2px rgba(0, 0, 0, 0.3));\n",
              "      fill: #FFFFFF;\n",
              "    }\n",
              "  </style>\n",
              "\n",
              "      <script>\n",
              "        const buttonEl =\n",
              "          document.querySelector('#df-c16691af-ebfb-456d-921a-03ca323dcd2e button.colab-df-convert');\n",
              "        buttonEl.style.display =\n",
              "          google.colab.kernel.accessAllowed ? 'block' : 'none';\n",
              "\n",
              "        async function convertToInteractive(key) {\n",
              "          const element = document.querySelector('#df-c16691af-ebfb-456d-921a-03ca323dcd2e');\n",
              "          const dataTable =\n",
              "            await google.colab.kernel.invokeFunction('convertToInteractive',\n",
              "                                                     [key], {});\n",
              "          if (!dataTable) return;\n",
              "\n",
              "          const docLinkHtml = 'Like what you see? Visit the ' +\n",
              "            '<a target=\"_blank\" href=https://colab.research.google.com/notebooks/data_table.ipynb>data table notebook</a>'\n",
              "            + ' to learn more about interactive tables.';\n",
              "          element.innerHTML = '';\n",
              "          dataTable['output_type'] = 'display_data';\n",
              "          await google.colab.output.renderOutput(dataTable, element);\n",
              "          const docLink = document.createElement('div');\n",
              "          docLink.innerHTML = docLinkHtml;\n",
              "          element.appendChild(docLink);\n",
              "        }\n",
              "      </script>\n",
              "    </div>\n",
              "  </div>\n",
              "  "
            ]
          },
          "metadata": {},
          "execution_count": 12
        }
      ],
      "source": [
        "df.tail(5)"
      ]
    },
    {
      "cell_type": "markdown",
      "metadata": {
        "id": "GW7ECNQs9fUs"
      },
      "source": [
        "We can use the following line of code to determine  the success rate:\n"
      ]
    },
    {
      "cell_type": "code",
      "execution_count": 13,
      "metadata": {
        "colab": {
          "base_uri": "https://localhost:8080/"
        },
        "id": "JacO_YKk9fUt",
        "outputId": "fcc87481-17ab-4c34-b56d-9566385aa9f1"
      },
      "outputs": [
        {
          "output_type": "execute_result",
          "data": {
            "text/plain": [
              "1.0"
            ]
          },
          "metadata": {},
          "execution_count": 13
        }
      ],
      "source": [
        "df[\"Class\"].mean()"
      ]
    },
    {
      "cell_type": "markdown",
      "metadata": {
        "id": "tDhX-_mv9fUt"
      },
      "source": [
        "We can now export it to a CSV for the next section,but to make the answers consistent, in the next lab we will provide data in a pre-selected date range.\n"
      ]
    },
    {
      "cell_type": "markdown",
      "metadata": {
        "id": "GixuLDWN9fUt"
      },
      "source": [
        "<code>df.to_csv(\"dataset_part\\_2.csv\", index=False)</code>\n"
      ]
    },
    {
      "cell_type": "code",
      "source": [
        "df.to_csv(\"dataset_part_2.csv\", index=False)"
      ],
      "metadata": {
        "id": "nPgetbCcC8Ad"
      },
      "execution_count": 14,
      "outputs": []
    },
    {
      "cell_type": "code",
      "source": [
        "#Code to download csv files created in Lab\n",
        "from IPython.display import HTML\n",
        "import base64,io\n",
        "\n",
        "def create_download_link( df, title = \"Download CSV file\", filename = \"/home/wsuser/work/dataset_part2.csv\"): \n",
        " csv = df.to_csv()\n",
        " b64 = base64.b64encode(csv.encode())\n",
        " payload = b64.decode()\n",
        " html = '<a download=\"{filename}\" href=\"data:text/csv;base64,{payload}\" target=\"_blank\">{title}</a>'\n",
        " html = html.format(payload=payload,title=title,filename=filename)\n",
        " return HTML(html)\n",
        "\n",
        "create_download_link(df)"
      ],
      "metadata": {
        "colab": {
          "base_uri": "https://localhost:8080/",
          "height": 34
        },
        "id": "ylaTAwHHoWDf",
        "outputId": "d2443fcd-a95e-4835-db05-db9c0f8c1023"
      },
      "execution_count": 15,
      "outputs": [
        {
          "output_type": "execute_result",
          "data": {
            "text/plain": [
              "<IPython.core.display.HTML object>"
            ],
            "text/html": [
              "<a download=\"/home/wsuser/work/dataset_part2.csv\" href=\"data:text/csv;base64,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\" target=\"_blank\">Download CSV file</a>"
            ]
          },
          "metadata": {},
          "execution_count": 15
        }
      ]
    },
    {
      "cell_type": "markdown",
      "metadata": {
        "id": "w8PRgFHy9fUu"
      },
      "source": [
        "## Authors\n"
      ]
    },
    {
      "cell_type": "markdown",
      "metadata": {
        "id": "6KFx_DvD9fUv"
      },
      "source": [
        "<a href=\"https://www.linkedin.com/in/joseph-s-50398b136/?utm_medium=Exinfluencer&utm_source=Exinfluencer&utm_content=000026UJ&utm_term=10006555&utm_id=NA-SkillsNetwork-Channel-SkillsNetworkCoursesIBMDS0321ENSkillsNetwork26802033-2021-01-01\">Joseph Santarcangelo</a> has a PhD in Electrical Engineering, his research focused on using machine learning, signal processing, and computer vision to determine how videos impact human cognition. Joseph has been working for IBM since he completed his PhD.\n"
      ]
    },
    {
      "cell_type": "markdown",
      "metadata": {
        "id": "eKyhQOOb9fUv"
      },
      "source": [
        "<a href=\"https://www.linkedin.com/in/nayefaboutayoun/?utm_medium=Exinfluencer&utm_source=Exinfluencer&utm_content=000026UJ&utm_term=10006555&utm_id=NA-SkillsNetwork-Channel-SkillsNetworkCoursesIBMDS0321ENSkillsNetwork26802033-2021-01-01\">Nayef Abou Tayoun</a> is a Data Scientist at IBM and pursuing a Master of Management in Artificial intelligence degree at Queen's University.\n"
      ]
    },
    {
      "cell_type": "markdown",
      "metadata": {
        "id": "uOgCYZkB9fUw"
      },
      "source": [
        "## Change Log\n"
      ]
    },
    {
      "cell_type": "markdown",
      "metadata": {
        "id": "96KOAFf79fUw"
      },
      "source": [
        "| Date (YYYY-MM-DD) | Version | Changed By    | Change Description      |\n",
        "| ----------------- | ------- | ------------- | ----------------------- |\n",
        "| 2021-08-31        | 1.1     | Lakshmi Holla | Changed Markdown        |\n",
        "| 2020-09-20        | 1.0     | Joseph        | Modified Multiple Areas |\n",
        "| 2020-11-04        | 1.1.    | Nayef         | updating the input data |\n",
        "| 2021-05-026       | 1.1.    | Joseph        | updating the input data |\n"
      ]
    },
    {
      "cell_type": "markdown",
      "metadata": {
        "id": "gjjI5Fzz9fUw"
      },
      "source": [
        "Copyright © 2021 IBM Corporation. All rights reserved.\n"
      ]
    }
  ],
  "metadata": {
    "kernelspec": {
      "display_name": "Python 3",
      "language": "python",
      "name": "python3"
    },
    "language_info": {
      "codemirror_mode": {
        "name": "ipython",
        "version": 3
      },
      "file_extension": ".py",
      "mimetype": "text/x-python",
      "name": "python",
      "nbconvert_exporter": "python",
      "pygments_lexer": "ipython3",
      "version": "3.8.8"
    },
    "colab": {
      "name": "labs-jupyter-spacex-Data wrangling.ipynb",
      "provenance": [],
      "include_colab_link": true
    }
  },
  "nbformat": 4,
  "nbformat_minor": 0
}